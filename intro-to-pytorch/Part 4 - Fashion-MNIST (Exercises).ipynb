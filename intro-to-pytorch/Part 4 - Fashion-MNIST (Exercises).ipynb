{
 "cells": [
  {
   "cell_type": "markdown",
   "metadata": {},
   "source": [
    "# Classifying Fashion-MNIST\n",
    "\n",
    "Now it's your turn to build and train a neural network. You'll be using the [Fashion-MNIST dataset](https://github.com/zalandoresearch/fashion-mnist), a drop-in replacement for the MNIST dataset. MNIST is actually quite trivial with neural networks where you can easily achieve better than 97% accuracy. Fashion-MNIST is a set of 28x28 greyscale images of clothes. It's more complex than MNIST, so it's a better representation of the actual performance of your network, and a better representation of datasets you'll use in the real world.\n",
    "\n",
    "<img src='assets/fashion-mnist-sprite.png' width=500px>\n",
    "\n",
    "In this notebook, you'll build your own neural network. For the most part, you could just copy and paste the code from Part 3, but you wouldn't be learning. It's important for you to write the code yourself and get it to work. Feel free to consult the previous notebooks though as you work through this.\n",
    "\n",
    "First off, let's load the dataset through torchvision."
   ]
  },
  {
   "cell_type": "code",
   "execution_count": 1,
   "metadata": {
    "tags": []
   },
   "outputs": [
    {
     "output_type": "stream",
     "name": "stdout",
     "text": "Downloading http://fashion-mnist.s3-website.eu-central-1.amazonaws.com/train-images-idx3-ubyte.gz to C:\\Users\\AYUSH/.pytorch/F_MNIST_data/FashionMNIST\\raw\\train-images-idx3-ubyte.gz\n100.0%Extracting C:\\Users\\AYUSH/.pytorch/F_MNIST_data/FashionMNIST\\raw\\train-images-idx3-ubyte.gz to C:\\Users\\AYUSH/.pytorch/F_MNIST_data/FashionMNIST\\raw\nDownloading http://fashion-mnist.s3-website.eu-central-1.amazonaws.com/train-labels-idx1-ubyte.gz to C:\\Users\\AYUSH/.pytorch/F_MNIST_data/FashionMNIST\\raw\\train-labels-idx1-ubyte.gz\n111.0%Extracting C:\\Users\\AYUSH/.pytorch/F_MNIST_data/FashionMNIST\\raw\\train-labels-idx1-ubyte.gz to C:\\Users\\AYUSH/.pytorch/F_MNIST_data/FashionMNIST\\raw\nDownloading http://fashion-mnist.s3-website.eu-central-1.amazonaws.com/t10k-images-idx3-ubyte.gz to C:\\Users\\AYUSH/.pytorch/F_MNIST_data/FashionMNIST\\raw\\t10k-images-idx3-ubyte.gz\n100.0%Extracting C:\\Users\\AYUSH/.pytorch/F_MNIST_data/FashionMNIST\\raw\\t10k-images-idx3-ubyte.gz to C:\\Users\\AYUSH/.pytorch/F_MNIST_data/FashionMNIST\\raw\nDownloading http://fashion-mnist.s3-website.eu-central-1.amazonaws.com/t10k-labels-idx1-ubyte.gz to C:\\Users\\AYUSH/.pytorch/F_MNIST_data/FashionMNIST\\raw\\t10k-labels-idx1-ubyte.gz\n159.1%Extracting C:\\Users\\AYUSH/.pytorch/F_MNIST_data/FashionMNIST\\raw\\t10k-labels-idx1-ubyte.gz to C:\\Users\\AYUSH/.pytorch/F_MNIST_data/FashionMNIST\\raw\nProcessing...\nDone!\n"
    }
   ],
   "source": [
    "import torch\n",
    "from torchvision import datasets, transforms\n",
    "import helper\n",
    "\n",
    "# Define a transform to normalize the data\n",
    "transform = transforms.Compose([transforms.ToTensor(),\n",
    "                                transforms.Normalize((0.5,), (0.5,))])\n",
    "# Download and load the training data\n",
    "trainset = datasets.FashionMNIST('~/.pytorch/F_MNIST_data/', download=True, train=True, transform=transform)\n",
    "trainloader = torch.utils.data.DataLoader(trainset, batch_size=64, shuffle=True)\n",
    "\n",
    "# Download and load the test data\n",
    "testset = datasets.FashionMNIST('~/.pytorch/F_MNIST_data/', download=True, train=False, transform=transform)\n",
    "testloader = torch.utils.data.DataLoader(testset, batch_size=64, shuffle=True)"
   ]
  },
  {
   "cell_type": "markdown",
   "metadata": {},
   "source": [
    "Here we can see one of the images."
   ]
  },
  {
   "cell_type": "code",
   "execution_count": 12,
   "metadata": {},
   "outputs": [
    {
     "output_type": "execute_result",
     "data": {
      "text/plain": "<torch.utils.data.dataloader.DataLoader at 0x2abe6ae4790>"
     },
     "metadata": {},
     "execution_count": 12
    },
    {
     "output_type": "display_data",
     "data": {
      "text/plain": "<Figure size 432x288 with 1 Axes>",
      "image/svg+xml": "<?xml version=\"1.0\" encoding=\"utf-8\" standalone=\"no\"?>\r\n<!DOCTYPE svg PUBLIC \"-//W3C//DTD SVG 1.1//EN\"\r\n  \"http://www.w3.org/Graphics/SVG/1.1/DTD/svg11.dtd\">\r\n<!-- Created with matplotlib (https://matplotlib.org/) -->\r\n<svg height=\"231.84pt\" version=\"1.1\" viewBox=\"0 0 231.84 231.84\" width=\"231.84pt\" xmlns=\"http://www.w3.org/2000/svg\" xmlns:xlink=\"http://www.w3.org/1999/xlink\">\r\n <defs>\r\n  <style type=\"text/css\">\r\n*{stroke-linecap:butt;stroke-linejoin:round;}\r\n  </style>\r\n </defs>\r\n <g id=\"figure_1\">\r\n  <g id=\"patch_1\">\r\n   <path d=\"M 0 231.84 \r\nL 231.84 231.84 \r\nL 231.84 0 \r\nL 0 0 \r\nz\r\n\" style=\"fill:none;\"/>\r\n  </g>\r\n  <g id=\"axes_1\">\r\n   <g id=\"patch_2\">\r\n    <path d=\"M 7.2 224.64 \r\nL 224.64 224.64 \r\nL 224.64 7.2 \r\nL 7.2 7.2 \r\nz\r\n\" style=\"fill:#ffffff;\"/>\r\n   </g>\r\n   <g clip-path=\"url(#padf84e7e85)\">\r\n    <image height=\"218\" id=\"image5978e02e48\" transform=\"scale(1 -1)translate(0 -218)\" width=\"218\" x=\"7.2\" xlink:href=\"data:image/png;base64,\r\niVBORw0KGgoAAAANSUhEUgAAANoAAADaCAYAAADAHVzbAAAABHNCSVQICAgIfAhkiAAAByVJREFUeJzt3cuOXFcVBuBdt76U8f0qHHsUFAaEF2AAmUS8NBEwJCIjMgpSGBHJwu2mHTpx140HoM/a5pT9I1zfN13eVce2/trSWVp7Tz771S93jXfus1//ZrA2nU3Ltb/74ou9vvvk5KSs//bzzwdrf//uu3Ltn778ctQzHbr6fxx4JwQNAgQNAgQNAgQNAgQNAgQNAub/6wf4UP38k08Ga6fL03Ltn7/6qqyfn5+X9efPnpX1n3388WBtuVyWa/XRxrGjQYCgQYCgQYCgQYCgQYCgQYCgQYA+2kiLxaKs79rwmN9mvSnXzmezUc/0trbb4Wc7Pj5+r999qOxoECBoECBoECBoECBoECBoEOD1/kg3b94s69Xr/8lk0vnsW2X9Hy9f1ut/Uj/bdrcdrJ2e1iM8t27Vz3ZxcVHWD5UdDQIEDQIEDQIEDQIEDQIEDQIEDQL00Ubq9Zum0+HfsN2uvinr4cMHZf3bv31b1k9O62ubigmeNuuM6CxP6+Po9NGuZ0eDAEGDAEGDAEGDAEGDAEGDAEGDAH20kU46x7JVM2fVPFhrrT24X/fRenpHxlVH4U0n9W/vaa9Hx7XsaBAgaBAgaBAgaBAgaBAgaBAgaBCgjzbSpJg3a61/dmPl9u367MSeZWdWrjKZ1s+9XNbzaFzPjgYBggYBggYBggYBggYBggYBggYB+mgj7bb1TFm5tnOu4/FRPU/WM5+P/2/tPdvR0dHozz5kdjQIEDQIEDQIEDQIEDQIEDQI8Hp/pG3n9X75+r9+g94dVenpfHz9BzqLV6vVf/k0tGZHgwhBgwBBgwBBgwBBgwBBgwBBgwB9tJH+eXFR1jdFH613FN37PtJtWhyVt1rXfbKL16/f9eMcBDsaBAgaBAgaBAgaBAgaBAgaBAgaBOijjXR2dlbW1+v1YG02nZVr97l2qbXW7ty6XdY3281gbbftDKR1jqPjenY0CBA0CBA0CBA0CBA0CBA0CBA0CNBHG+nk5KSsT9rwzFnVY2ut36q6cePGXvXNZriP1puVa70617KjQYCgQYCgQYCgQYCgQYCgQYDX+yPdWNav0Ofz4X/aN1dv9vruq6urst679mlbjMLMZ/Vv7/HRcVnnenY0CBA0CBA0CBA0CBA0CBA0CBA0CNBHG+n27Vtlfb4Y/qddreqrkXp666sxmNbqHl9vTObJk8dl/Zu/flPWD5UdDQIEDQIEDQIEDQIEDQIEDQIEDQL00UZ69tGz0Wt37f1efdS7eqnqle06Z93du3dv1DMdOjsaBAgaBAgaBAgaBAgaBAgaBAgaBOijjfT06U/L+nazDT3Jf1qt63m1xWIxWNtN6j7ag/v3Rz3TobOjQYCgQYCgQYCgQYCgQYCgQYCgQYA+2kiPHj4q69XZir2Zr/etuj9tvV6Xa+/eufuuH+cg2NEgQNAgQNAgQNAgQNAgQNAgwOv9kRbFtUyttXa1uhqs7ft6vzeqMpvNyvpiPjwmc3U1/Nxv4+6dO2X91fn5Xp///8qOBgGCBgGCBgGCBgGCBgGCBgGCBgH6aAPu39vvWLXe1Un7ePLkSVmfTurfz+12eIRnX0+fPi3r+mjAeyNoECBoECBoECBoECBoECBoEKCPNuDRo/o4uZ71ZvjYtt48WnVU3dus7x0Zt9kOXym1LWqttbZa1VdCPX78uKz/5euvy/qHyo4GAYIGAYIGAYIGAYIGAYIGAYIGAfpoA05Ojst6/2jG4auRevNgP775sax/+otPx351a63TC+v8vXp9tAf3H9QfcKDsaBAgaBAgaBAgaBAgaBAgaBAgaBCgjzZgNq3vGOtZr4f7TfN5/c8+6TTCPuqcndibZ7u8vBz+7mn93W+u3pT13r1xh8qOBgGCBgGCBgGCBgGCBgGCBgHexQ7Y7upj1/Yxm9Wtg94r9u//9X1Zn07r38/q89dX9VF1u94cTW9G50DZ0SBA0CBA0CBA0CBA0CBA0CBA0CBAH23A+fn5XuurMZvJpO41bTd1D6977dO6HpPZFut7zzad1L/N5+cvyvqhsqNBgKBBgKBBgKBBgKBBgKBBgKBBgD7agLOzs7LeaTeVM2e9PlnPdttZ33m2qldW9dhaa+24c53Vqz37jx8qOxoECBoECBoECBoECBoECBoECBoE6KMNeP36dVnvtJva1Wr42qbWORuxN/PV63XtOn22SXHuY2/WbdG5curs7FVZP1R2NAgQNAgQNAgQNAgQNAgQNAjwen/ApvOKfFW+vm/t6GgxWKuOomutteVyWdYvf/ihrM8710JVV1Jtt53X+4vhv1drrb08e1nWD5UdDQIEDQIEDQIEDQIEDQIEDQIEDQL00Ub6/R//UNafP3s+WHt1Xo+SbDb1tUuXl5dlfVqMwbTW2vHx8JFxp6en5dpZ57NfvHBt03XsaBAgaBAgaBAgaBAgaBAgaBAgaBDwb960SwcE80opAAAAAElFTkSuQmCC\" y=\"-6.64\"/>\r\n   </g>\r\n   <g id=\"matplotlib.axis_1\">\r\n    <g id=\"xtick_1\">\r\n     <g id=\"line2d_1\"/>\r\n    </g>\r\n    <g id=\"xtick_2\">\r\n     <g id=\"line2d_2\"/>\r\n    </g>\r\n    <g id=\"xtick_3\">\r\n     <g id=\"line2d_3\"/>\r\n    </g>\r\n    <g id=\"xtick_4\">\r\n     <g id=\"line2d_4\"/>\r\n    </g>\r\n    <g id=\"xtick_5\">\r\n     <g id=\"line2d_5\"/>\r\n    </g>\r\n    <g id=\"xtick_6\">\r\n     <g id=\"line2d_6\"/>\r\n    </g>\r\n   </g>\r\n   <g id=\"matplotlib.axis_2\">\r\n    <g id=\"ytick_1\">\r\n     <g id=\"line2d_7\"/>\r\n    </g>\r\n    <g id=\"ytick_2\">\r\n     <g id=\"line2d_8\"/>\r\n    </g>\r\n    <g id=\"ytick_3\">\r\n     <g id=\"line2d_9\"/>\r\n    </g>\r\n    <g id=\"ytick_4\">\r\n     <g id=\"line2d_10\"/>\r\n    </g>\r\n    <g id=\"ytick_5\">\r\n     <g id=\"line2d_11\"/>\r\n    </g>\r\n    <g id=\"ytick_6\">\r\n     <g id=\"line2d_12\"/>\r\n    </g>\r\n   </g>\r\n  </g>\r\n </g>\r\n <defs>\r\n  <clipPath id=\"padf84e7e85\">\r\n   <rect height=\"217.44\" width=\"217.44\" x=\"7.2\" y=\"7.2\"/>\r\n  </clipPath>\r\n </defs>\r\n</svg>\r\n",
      "image/png": "[encoded data removed]"
     },
     "metadata": {
      "needs_background": "light"
     }
    }
   ],
   "source": [
    "image, label = next(iter(trainloader))\n",
    "helper.imshow(image[0,:]);"
   ]
  },
  {
   "cell_type": "markdown",
   "metadata": {},
   "source": [
    "## Building the network\n",
    "\n",
    "Here you should define your network. As with MNIST, each image is 28x28 which is a total of 784 pixels, and there are 10 classes. You should include at least one hidden layer. We suggest you use ReLU activations for the layers and to return the logits or log-softmax from the forward pass. It's up to you how many layers you add and the size of those layers."
   ]
  },
  {
   "cell_type": "code",
   "execution_count": 10,
   "metadata": {
    "tags": []
   },
   "outputs": [],
   "source": [
    "# TODO: Define your network architecture here\n",
    "from torch import nn\n",
    "from torch import optim\n",
    "model = nn.Sequential(nn.Linear(784,256),\n",
    "                      nn.ReLU(),\n",
    "                      nn.Linear(256,128),\n",
    "                      nn.ReLU(),\n",
    "                      nn.Linear(128,64),\n",
    "                      nn.Tanh(),\n",
    "                      nn.Linear(64,10),\n",
    "                      nn.LogSoftmax(dim = 1))\n",
    "\n",
    "# print(model.parameters())\n"
   ]
  },
  {
   "cell_type": "markdown",
   "metadata": {},
   "source": [
    "# Train the network\n",
    "\n",
    "Now you should create your network and train it. First you'll want to define [the criterion](http://pytorch.org/docs/master/nn.html#loss-functions) ( something like `nn.CrossEntropyLoss`) and [the optimizer](http://pytorch.org/docs/master/optim.html) (typically `optim.SGD` or `optim.Adam`).\n",
    "\n",
    "Then write the training code. Remember the training pass is a fairly straightforward process:\n",
    "\n",
    "* Make a forward pass through the network to get the logits \n",
    "* Use the logits to calculate the loss\n",
    "* Perform a backward pass through the network with `loss.backward()` to calculate the gradients\n",
    "* Take a step with the optimizer to update the weights\n",
    "\n",
    "By adjusting the hyperparameters (hidden units, learning rate, etc), you should be able to get the training loss below 0.4."
   ]
  },
  {
   "cell_type": "code",
   "execution_count": 11,
   "metadata": {},
   "outputs": [],
   "source": [
    "# TODO: Create the network, define the criterion and optimizer\n",
    "fu = nn.NLLLoss()\n",
    "optimizer = optim.ASGD(model.parameters(), lr = 0.1)\n"
   ]
  },
  {
   "cell_type": "code",
   "execution_count": 17,
   "metadata": {
    "tags": []
   },
   "outputs": [
    {
     "output_type": "stream",
     "name": "stdout",
     "text": "epoch  0  loss =  0.3057895117461173\nepoch  1  loss =  0.2903118641860386\nepoch  2  loss =  0.27747029054965544\nepoch  3  loss =  0.26525916094019975\nepoch  4  loss =  0.2547885549665768\nepoch  5  loss =  0.24568314884485468\nepoch  6  loss =  0.23756946036333976\nepoch  7  loss =  0.22826460595610046\nepoch  8  loss =  0.22113413824789177\nepoch  9  loss =  0.21331015396823508\n"
    }
   ],
   "source": [
    "# TODO: Train the network here\n",
    "for i in range(10):\n",
    "    running_loss = 0\n",
    "    for images,label in trainloader:\n",
    "        image = images.reshape(images.shape[0],-1)\n",
    "        optimizer.zero_grad()\n",
    "        output = model(image)\n",
    "        loss = fu(output,label)\n",
    "        loss.backward()\n",
    "        optimizer.step()\n",
    "        running_loss+=loss.item()\n",
    "    print(\"epoch \",i,\" loss = \",running_loss/len(trainloader))\n",
    "\n"
   ]
  },
  {
   "cell_type": "code",
   "execution_count": 24,
   "metadata": {},
   "outputs": [
    {
     "output_type": "display_data",
     "data": {
      "text/plain": "<Figure size 432x648 with 2 Axes>",
      "image/png": "[encoded data removed]"
     },
     "metadata": {
      "image/png": {
       "width": 424,
       "height": 216
      },
      "needs_background": "light"
     }
    }
   ],
   "source": [
    "%matplotlib inline\n",
    "%config InlineBackend.figure_format = 'retina'\n",
    "\n",
    "import helper\n",
    "\n",
    "# Test out your network!\n",
    "\n",
    "dataiter = iter(testloader)\n",
    "images, labels = dataiter.next()\n",
    "img = images[0]\n",
    "# Convert 2D image to 1D vector\n",
    "img = img.resize_(1, 784)\n",
    "\n",
    "with torch.no_grad():\n",
    "    bla = model(img)\n",
    "# TODO: Calculate the class probabilities (softmax) for img\n",
    "ps = torch.exp(bla)\n",
    "\n",
    "# Plot the image and probabilities\n",
    "helper.view_classify(img.resize_(1, 28, 28), ps, version='Fashion')"
   ]
  },
  {
   "cell_type": "code",
   "execution_count": null,
   "metadata": {},
   "outputs": [],
   "source": []
  }
 ],
 "metadata": {
  "kernelspec": {
   "display_name": "Python 3",
   "language": "python",
   "name": "python3"
  },
  "language_info": {
   "codemirror_mode": {
    "name": "ipython",
    "version": 3
   },
   "file_extension": ".py",
   "mimetype": "text/x-python",
   "name": "python",
   "nbconvert_exporter": "python",
   "pygments_lexer": "ipython3",
   "version": "3.8.2-final"
  }
 },
 "nbformat": 4,
 "nbformat_minor": 2
}